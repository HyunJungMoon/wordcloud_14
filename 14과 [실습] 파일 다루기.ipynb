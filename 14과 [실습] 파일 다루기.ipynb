{
 "cells": [
  {
   "cell_type": "markdown",
   "id": "b2ab1526",
   "metadata": {
    "id": "452f1bd7"
   },
   "source": [
    "# chapter 14. 파일 다루기"
   ]
  },
  {
   "cell_type": "markdown",
   "id": "dc62fde5",
   "metadata": {
    "id": "c0596c14"
   },
   "source": [
    "## 1) 파일 경로"
   ]
  },
  {
   "cell_type": "markdown",
   "id": "6a898497",
   "metadata": {
    "id": "skESn5hLuRhE"
   },
   "source": [
    "① pathlib 패키지의 Path 함수를 불러와 현재 홈 디렉토리 정보를 확인해 보시오."
   ]
  },
  {
   "cell_type": "code",
   "execution_count": 1,
   "id": "c6ab837e",
   "metadata": {
    "id": "a62b8365"
   },
   "outputs": [
    {
     "name": "stdout",
     "output_type": "stream",
     "text": [
      "C:\\Users\\User\n"
     ]
    }
   ],
   "source": [
    "from pathlib import Path\n",
    "\n",
    "print(Path.home())"
   ]
  },
  {
   "cell_type": "markdown",
   "id": "ddc9dab9",
   "metadata": {
    "id": "053e35d4"
   },
   "source": [
    "## 2) 새 파일 만들기"
   ]
  },
  {
   "cell_type": "markdown",
   "id": "ff4c261d",
   "metadata": {
    "id": "C39jCGUhuU_n"
   },
   "source": [
    "① open 함수로 파일오브젝트 f에 새 파일 이름과 옵션 'w'를 지정하여 홈 디렉토리에 새 파일을 만들어 봅시다.\n",
    "* 파일 이름: \"newfile2.txt\""
   ]
  },
  {
   "cell_type": "code",
   "execution_count": 2,
   "id": "18b6494c",
   "metadata": {
    "id": "c1d83bdb"
   },
   "outputs": [],
   "source": [
    "f = open('newfile2.txt', 'w')"
   ]
  },
  {
   "cell_type": "markdown",
   "id": "916ddd17",
   "metadata": {
    "id": "3ed94888"
   },
   "source": [
    "## 3) 파일 쓰기"
   ]
  },
  {
   "cell_type": "markdown",
   "id": "5119f15a",
   "metadata": {
    "id": "QBwinWnuuaKB"
   },
   "source": [
    "① 파일오브젝트.write()로 앞서 만든 파일에 '파일 쓰기 연습입니다.'라고 써 보시오."
   ]
  },
  {
   "cell_type": "code",
   "execution_count": 3,
   "id": "d2bcf446",
   "metadata": {
    "id": "5d5e66fa"
   },
   "outputs": [
    {
     "data": {
      "text/plain": [
       "12"
      ]
     },
     "execution_count": 3,
     "metadata": {},
     "output_type": "execute_result"
    }
   ],
   "source": [
    "f.write('파일 쓰기 연습입니다.')"
   ]
  },
  {
   "cell_type": "markdown",
   "id": "c3b55576",
   "metadata": {
    "id": "9QFeIYawubmK"
   },
   "source": [
    "② 파일오브젝트.close()로 파일을 종료하고 파일에 작성한 내용이 잘 기록되었는지 확인해 보시오."
   ]
  },
  {
   "cell_type": "code",
   "execution_count": 4,
   "id": "b3efc8d9",
   "metadata": {
    "id": "07830e6a"
   },
   "outputs": [],
   "source": [
    "f.close()"
   ]
  },
  {
   "cell_type": "markdown",
   "id": "51ab506c",
   "metadata": {
    "id": "lrawZvlYueND"
   },
   "source": [
    "③ 파일을 'w'로 오픈하고 내용(\"파일에 글씨를 써 봅시다\")을 다시 작성하여 기존 내용을 덮어 씌워 보시오."
   ]
  },
  {
   "cell_type": "code",
   "execution_count": 8,
   "id": "591ec9ad",
   "metadata": {
    "id": "8de24293"
   },
   "outputs": [],
   "source": [
    "f = open('newfile2.txt', 'w')\n",
    "f.write('파일에 글씨를 써 봅시다.')\n",
    "f.close()"
   ]
  },
  {
   "cell_type": "markdown",
   "id": "7937a5b1",
   "metadata": {
    "id": "FsZbEcEbugBE"
   },
   "source": [
    "④ 파일을 'a' 옵션을 사용하여 오픈하고 기존 내용에 새로운 내용을 추가해 보시오."
   ]
  },
  {
   "cell_type": "code",
   "execution_count": 9,
   "id": "8084a12d",
   "metadata": {
    "id": "fdd21c78"
   },
   "outputs": [],
   "source": [
    "f = open('newfile2.txt', 'a')\n",
    "f.write('\\n다시 써 봅시다.')\n",
    "f.close()"
   ]
  },
  {
   "cell_type": "markdown",
   "id": "99cb2b30",
   "metadata": {
    "id": "ISkysOP5uity"
   },
   "source": [
    "⑤ 줄 바꿈 기호를 사용하여 기존 내용에 새로운 내용이 한 줄 내려가서 써 지도록 추가해 보시오."
   ]
  },
  {
   "cell_type": "code",
   "execution_count": 10,
   "id": "f9cb8706",
   "metadata": {
    "id": "3dfe1b5a"
   },
   "outputs": [],
   "source": [
    "f = open('newfile2.txt', 'a')\n",
    "f.write('\\n 다시')\n",
    "f.close()"
   ]
  },
  {
   "cell_type": "markdown",
   "id": "c5677690",
   "metadata": {
    "id": "MplJ8UzEulwq"
   },
   "source": [
    "⑥ [심화] 지금까지 배운 내용을 활용하여 다음과 같은 내용을 작성한 파일을 만들어 보시오.\n",
    "* 먼저 제목으로 파일을 생성하고,\n",
    "* 파일오브젝트.write()를 사용하여 첫 줄을 작성하시오.\n",
    "* 파일오브젝트.close()로 종료하고\n",
    "* 파일을 다시 열어 나머지 내용들을 한 줄씩 추가하시오.\n",
    "\n",
    "        제목 : Little Star.txt\n",
    "        내용 :\n",
    "        Twinkle, twinkle little star\n",
    "        How I wonder what you are\n",
    "        Up above the world so high\n",
    "        Like a diamond in the sky\n",
    "        Twinkle, twinkle little star\n",
    "        How I wonder what you are"
   ]
  },
  {
   "cell_type": "code",
   "execution_count": 8,
   "id": "e3d31f4c",
   "metadata": {
    "id": "fc3406c1"
   },
   "outputs": [],
   "source": []
  },
  {
   "cell_type": "markdown",
   "id": "7b0e7502",
   "metadata": {
    "id": "03ff53bb"
   },
   "source": [
    "## 4) 파일 읽기"
   ]
  },
  {
   "cell_type": "markdown",
   "id": "e974415a",
   "metadata": {
    "id": "RIj6Ujcdu--1"
   },
   "source": [
    "① poem.txt 파일을 .readline()을 사용하여 한 줄, 한 줄 읽어오시오."
   ]
  },
  {
   "cell_type": "code",
   "execution_count": 9,
   "id": "d305a510",
   "metadata": {
    "id": "1f44a218"
   },
   "outputs": [
    {
     "name": "stdout",
     "output_type": "stream",
     "text": [
      "서시\n",
      "\n",
      "윤동주\n",
      "\n",
      "\n",
      "\n",
      "죽는 날까지 하늘을 우러러\n",
      "\n"
     ]
    }
   ],
   "source": []
  },
  {
   "cell_type": "markdown",
   "id": "05717977",
   "metadata": {
    "id": "Gx2Pu8QlvB-m"
   },
   "source": [
    "② poem.txt 파일을 .readlines()를 사용하여 전체를 리스트로 읽어오시오."
   ]
  },
  {
   "cell_type": "code",
   "execution_count": 10,
   "id": "522d3806",
   "metadata": {
    "id": "56b623ac"
   },
   "outputs": [
    {
     "name": "stdout",
     "output_type": "stream",
     "text": [
      "['서시\\n', '윤동주\\n', '\\n', '죽는 날까지 하늘을 우러러\\n', '한 점 부끄럼이 없기를,\\n', '잎새에 이는 바람에도\\n', '나는 괴로워했다.\\n', '\\n', '별을 노래하는 마음으로\\n', '모든 죽어 가는 것을 사랑해야지\\n', '그리고 나한테 주어진 길을\\n', '걸어가야겠다.\\n', '\\n', '오늘 밤에도 별이 바람에 스치운다.\\n']\n"
     ]
    }
   ],
   "source": []
  },
  {
   "cell_type": "markdown",
   "id": "b8f999b8",
   "metadata": {
    "id": "c_tBucCevGOJ"
   },
   "source": [
    "③ poem.txt 파일을 .realines()와 for loop를 사용하여 한 줄 씩 읽어오시오."
   ]
  },
  {
   "cell_type": "code",
   "execution_count": 11,
   "id": "f2457a17",
   "metadata": {
    "id": "32e979ad"
   },
   "outputs": [
    {
     "name": "stdout",
     "output_type": "stream",
     "text": [
      "서시\n",
      "\n",
      "윤동주\n",
      "\n",
      "\n",
      "\n",
      "죽는 날까지 하늘을 우러러\n",
      "\n",
      "한 점 부끄럼이 없기를,\n",
      "\n",
      "잎새에 이는 바람에도\n",
      "\n",
      "나는 괴로워했다.\n",
      "\n",
      "\n",
      "\n",
      "별을 노래하는 마음으로\n",
      "\n",
      "모든 죽어 가는 것을 사랑해야지\n",
      "\n",
      "그리고 나한테 주어진 길을\n",
      "\n",
      "걸어가야겠다.\n",
      "\n",
      "\n",
      "\n",
      "오늘 밤에도 별이 바람에 스치운다.\n",
      "\n"
     ]
    }
   ],
   "source": []
  },
  {
   "cell_type": "markdown",
   "id": "3966de49",
   "metadata": {
    "id": "03ff53bb"
   },
   "source": [
    "## 5) 워드 클라우드"
   ]
  },
  {
   "cell_type": "markdown",
   "id": "f19eae04",
   "metadata": {
    "id": "RIj6Ujcdu--1"
   },
   "source": [
    "① 인터넷에서 좋은 글(영문으로 된 연설문, 혹은 기사, 책 내용)을 찾아, txt로 저장하고 워드 클라우드를 만들어 봅시다.\n",
    "\n",
    "* 코드는 예제파일을 참조하세요.\n",
    "* 불필요한 단어/조사는 제거하세요.\n",
    "* 글의 내용을 한눈에 파악할 수 있는 멋진 워드클라우드를 만들어 봅시다."
   ]
  },
  {
   "cell_type": "code",
   "execution_count": 20,
   "id": "06e8703f",
   "metadata": {},
   "outputs": [],
   "source": [
    "file = open('sing.txt', \"r\", encoding='UTF8')\n",
    "text = file.read() \n",
    "file.close()\n",
    "\n",
    "wordList = text.split()  "
   ]
  },
  {
   "cell_type": "code",
   "execution_count": 21,
   "id": "f787175c",
   "metadata": {
    "collapsed": true
   },
   "outputs": [
    {
     "data": {
      "text/plain": [
       "[\"There's\",\n",
       " 'a',\n",
       " 'feeling,',\n",
       " \"there's\",\n",
       " 'a',\n",
       " 'fire',\n",
       " \"There's\",\n",
       " 'a',\n",
       " 'whisper',\n",
       " 'preaching',\n",
       " 'to',\n",
       " 'the',\n",
       " 'choir',\n",
       " 'Take',\n",
       " 'the',\n",
       " 'leaders',\n",
       " 'and',\n",
       " 'the',\n",
       " 'liars',\n",
       " 'Throw',\n",
       " 'your',\n",
       " 'fears',\n",
       " 'on',\n",
       " 'the',\n",
       " 'funeral',\n",
       " 'pyre',\n",
       " 'Keep',\n",
       " 'on',\n",
       " 'breathing,',\n",
       " \"don't\",\n",
       " 'go',\n",
       " 'under',\n",
       " 'Keep',\n",
       " 'your',\n",
       " 'ear',\n",
       " 'to',\n",
       " 'the',\n",
       " 'ground,',\n",
       " 'hear',\n",
       " 'the',\n",
       " 'thunder',\n",
       " 'When',\n",
       " 'the',\n",
       " 'earth',\n",
       " 'quakes',\n",
       " 'and',\n",
       " 'the',\n",
       " 'ground',\n",
       " 'shakes',\n",
       " 'Throw',\n",
       " 'your',\n",
       " 'passion',\n",
       " 'to',\n",
       " 'the',\n",
       " 'wind',\n",
       " 'when',\n",
       " 'the',\n",
       " 'storm',\n",
       " 'breaks',\n",
       " 'Mother,',\n",
       " 'sister,',\n",
       " 'father,',\n",
       " 'brother',\n",
       " 'Step',\n",
       " 'into',\n",
       " 'the',\n",
       " 'light',\n",
       " 'and',\n",
       " 'Start',\n",
       " 'a',\n",
       " 'tiny',\n",
       " 'riot',\n",
       " 'Stop',\n",
       " 'being',\n",
       " 'so',\n",
       " 'goddamn',\n",
       " 'quiet',\n",
       " 'Got',\n",
       " 'a',\n",
       " 'spark',\n",
       " 'in',\n",
       " 'your',\n",
       " 'heart',\n",
       " 'so',\n",
       " 'strike',\n",
       " 'it',\n",
       " 'Crush',\n",
       " 'your',\n",
       " 'way',\n",
       " 'up',\n",
       " 'here',\n",
       " 'Turn',\n",
       " 'the',\n",
       " 'pouring',\n",
       " 'rain',\n",
       " 'to',\n",
       " 'a',\n",
       " 'tidal',\n",
       " 'wave',\n",
       " 'And',\n",
       " 'fight',\n",
       " 'it',\n",
       " 'Got',\n",
       " 'something',\n",
       " 'inside,',\n",
       " \"don't\",\n",
       " 'hide',\n",
       " 'it',\n",
       " 'Like',\n",
       " 'dynamite',\n",
       " \"ignitin'\",\n",
       " 'Crush',\n",
       " 'your',\n",
       " 'way',\n",
       " 'up',\n",
       " 'here',\n",
       " 'Turn',\n",
       " 'the',\n",
       " 'pouring',\n",
       " 'rain',\n",
       " 'to',\n",
       " 'the',\n",
       " 'wave',\n",
       " 'Of',\n",
       " 'a',\n",
       " 'tiny',\n",
       " 'riot',\n",
       " 'Take',\n",
       " 'the',\n",
       " 'music,',\n",
       " 'learn',\n",
       " 'to',\n",
       " 'use',\n",
       " 'it',\n",
       " 'Turn',\n",
       " 'it',\n",
       " 'up',\n",
       " \"'til\",\n",
       " 'your',\n",
       " 'speakers',\n",
       " 'blow',\n",
       " 'fuses',\n",
       " 'Learn',\n",
       " 'the',\n",
       " 'rhythm,',\n",
       " 'but',\n",
       " 'never',\n",
       " 'lose',\n",
       " 'it',\n",
       " 'Keep',\n",
       " 'on',\n",
       " 'moving',\n",
       " \"'til\",\n",
       " 'you',\n",
       " 'know',\n",
       " 'what',\n",
       " 'the',\n",
       " 'truth',\n",
       " 'is',\n",
       " 'If',\n",
       " 'butterflies',\n",
       " 'can',\n",
       " 'use',\n",
       " 'their',\n",
       " 'wings',\n",
       " 'to',\n",
       " 'turn',\n",
       " 'the',\n",
       " 'wind',\n",
       " 'to',\n",
       " 'hurricanes',\n",
       " 'You',\n",
       " 'and',\n",
       " 'I',\n",
       " 'can',\n",
       " 'break',\n",
       " 'the',\n",
       " 'chains,',\n",
       " 'it',\n",
       " 'takes',\n",
       " 'a',\n",
       " 'day',\n",
       " 'to',\n",
       " 'Start',\n",
       " 'a',\n",
       " 'tiny',\n",
       " 'riot',\n",
       " 'Stop',\n",
       " 'being',\n",
       " 'so',\n",
       " 'goddamn',\n",
       " 'quiet',\n",
       " 'Got',\n",
       " 'a',\n",
       " 'spark',\n",
       " 'in',\n",
       " 'your',\n",
       " 'heart',\n",
       " 'so',\n",
       " 'strike',\n",
       " 'it',\n",
       " 'Crush',\n",
       " 'your',\n",
       " 'way',\n",
       " 'up',\n",
       " 'here',\n",
       " 'Turn',\n",
       " 'the',\n",
       " 'pouring',\n",
       " 'rain',\n",
       " 'to',\n",
       " 'a',\n",
       " 'tidal',\n",
       " 'wave',\n",
       " 'And',\n",
       " 'fight',\n",
       " 'it',\n",
       " 'Got',\n",
       " 'something',\n",
       " 'inside,',\n",
       " \"don't\",\n",
       " 'hide',\n",
       " 'it',\n",
       " 'Like',\n",
       " 'dynamite',\n",
       " 'igniting',\n",
       " 'Crush',\n",
       " 'your',\n",
       " 'way',\n",
       " 'up',\n",
       " 'here',\n",
       " 'Turn',\n",
       " 'the',\n",
       " 'pouring',\n",
       " 'rain',\n",
       " 'to',\n",
       " 'the',\n",
       " 'wave',\n",
       " 'Of',\n",
       " 'a',\n",
       " 'tiny',\n",
       " 'riot',\n",
       " 'In',\n",
       " 'the',\n",
       " 'darkness',\n",
       " \"there's\",\n",
       " 'a',\n",
       " 'light',\n",
       " 'You',\n",
       " 'can',\n",
       " 'find',\n",
       " 'it',\n",
       " 'if',\n",
       " 'you',\n",
       " 'try',\n",
       " 'If',\n",
       " 'you',\n",
       " 'open',\n",
       " 'up',\n",
       " 'your',\n",
       " 'eyes',\n",
       " 'If',\n",
       " \"you're\",\n",
       " 'drifting',\n",
       " 'out',\n",
       " 'to',\n",
       " 'sea',\n",
       " 'You',\n",
       " 'can',\n",
       " 'just',\n",
       " 'hold',\n",
       " 'on',\n",
       " 'to',\n",
       " 'me',\n",
       " \"We'll\",\n",
       " 'make',\n",
       " 'it',\n",
       " 'to',\n",
       " 'the',\n",
       " 'other',\n",
       " 'side',\n",
       " 'And',\n",
       " 'start',\n",
       " 'a',\n",
       " 'tiny',\n",
       " 'riot',\n",
       " 'Stop',\n",
       " 'being',\n",
       " 'so',\n",
       " 'goddamn',\n",
       " 'quiet',\n",
       " 'Got',\n",
       " 'a',\n",
       " 'spark',\n",
       " 'in',\n",
       " 'your',\n",
       " 'heart',\n",
       " 'so',\n",
       " 'strike',\n",
       " 'it',\n",
       " 'Crush',\n",
       " 'your',\n",
       " 'way',\n",
       " 'up',\n",
       " 'here',\n",
       " 'Turn',\n",
       " 'the',\n",
       " 'pouring',\n",
       " 'rain',\n",
       " 'to',\n",
       " 'a',\n",
       " 'tidal',\n",
       " 'wave',\n",
       " 'And',\n",
       " 'fight',\n",
       " 'it',\n",
       " 'Got',\n",
       " 'something',\n",
       " 'inside,',\n",
       " \"don't\",\n",
       " 'hide',\n",
       " 'it',\n",
       " 'Like',\n",
       " 'dynamite',\n",
       " \"ignitin'\",\n",
       " 'Crush',\n",
       " 'your',\n",
       " 'way',\n",
       " 'up',\n",
       " 'here',\n",
       " 'Turn',\n",
       " 'the',\n",
       " 'pouring',\n",
       " 'rain',\n",
       " 'to',\n",
       " 'the',\n",
       " 'wave',\n",
       " 'Of',\n",
       " 'a',\n",
       " 'tiny',\n",
       " 'riot',\n",
       " 'Oh',\n",
       " 'yeah,',\n",
       " 'good',\n",
       " 'God',\n",
       " \"I'm-\",\n",
       " 'Crush',\n",
       " 'your',\n",
       " 'way',\n",
       " 'up',\n",
       " 'here',\n",
       " 'Turn',\n",
       " 'the',\n",
       " 'pouring',\n",
       " 'rain',\n",
       " 'to',\n",
       " 'a',\n",
       " 'tidal',\n",
       " 'wave',\n",
       " 'And',\n",
       " 'fight',\n",
       " 'it',\n",
       " 'Got',\n",
       " 'something',\n",
       " 'inside,',\n",
       " \"don't\",\n",
       " 'hide',\n",
       " 'it',\n",
       " 'Like',\n",
       " 'dynamite',\n",
       " \"ignitin'\",\n",
       " 'Crush',\n",
       " 'your',\n",
       " 'way',\n",
       " 'up',\n",
       " 'here',\n",
       " 'Turn',\n",
       " 'the',\n",
       " 'pouring',\n",
       " 'rain',\n",
       " 'to',\n",
       " 'the',\n",
       " 'wave',\n",
       " 'Of',\n",
       " 'a',\n",
       " 'tiny',\n",
       " 'riot']"
      ]
     },
     "execution_count": 21,
     "metadata": {},
     "output_type": "execute_result"
    }
   ],
   "source": [
    "wordList"
   ]
  },
  {
   "cell_type": "code",
   "execution_count": 22,
   "id": "a7787bed",
   "metadata": {},
   "outputs": [],
   "source": [
    "worduniq = set(wordList)\n",
    "wordCount = {}\n",
    "\n",
    "for w in worduniq:\n",
    "    wordCount[w] = wordList.count(w)"
   ]
  },
  {
   "cell_type": "code",
   "execution_count": 23,
   "id": "b087d7fe",
   "metadata": {},
   "outputs": [],
   "source": [
    "del_word = ['the','a','of','on','that','this','and','be','is','to','are','was','were','from','as', 'by', 'with']\n",
    "for w in del_word :\n",
    "    if w in wordCount :\n",
    "        del wordCount[w]"
   ]
  },
  {
   "cell_type": "code",
   "execution_count": 24,
   "id": "9dfac54b",
   "metadata": {
    "collapsed": true
   },
   "outputs": [
    {
     "data": {
      "text/plain": [
       "{'inside,': 4,\n",
       " 'rain': 8,\n",
       " 'eyes': 1,\n",
       " \"'til\": 2,\n",
       " 'blow': 1,\n",
       " 'fight': 4,\n",
       " 'wings': 1,\n",
       " 'brother': 1,\n",
       " 'light': 2,\n",
       " 'I': 1,\n",
       " 'ground,': 1,\n",
       " 'Keep': 3,\n",
       " 'dynamite': 4,\n",
       " 'chains,': 1,\n",
       " 'know': 1,\n",
       " 'fears': 1,\n",
       " 'up': 10,\n",
       " 'takes': 1,\n",
       " 'In': 1,\n",
       " \"there's\": 2,\n",
       " 'If': 3,\n",
       " 'you': 3,\n",
       " 'And': 5,\n",
       " 'side': 1,\n",
       " 'here': 8,\n",
       " 'Learn': 1,\n",
       " 'your': 16,\n",
       " 'riot': 7,\n",
       " 'quiet': 3,\n",
       " 'breathing,': 1,\n",
       " 'open': 1,\n",
       " 'Throw': 2,\n",
       " 'tidal': 4,\n",
       " 'pouring': 8,\n",
       " 'Like': 4,\n",
       " 'find': 1,\n",
       " 'rhythm,': 1,\n",
       " 'sea': 1,\n",
       " 'good': 1,\n",
       " 'Oh': 1,\n",
       " 'never': 1,\n",
       " 'truth': 1,\n",
       " \"I'm-\": 1,\n",
       " 'when': 1,\n",
       " 'sister,': 1,\n",
       " 'make': 1,\n",
       " 'yeah,': 1,\n",
       " 'out': 1,\n",
       " 'but': 1,\n",
       " 'ear': 1,\n",
       " 'it': 17,\n",
       " 'Take': 2,\n",
       " 'darkness': 1,\n",
       " 'in': 3,\n",
       " 'learn': 1,\n",
       " 'hide': 4,\n",
       " 'something': 4,\n",
       " 'just': 1,\n",
       " 'turn': 1,\n",
       " 'passion': 1,\n",
       " 'father,': 1,\n",
       " 'When': 1,\n",
       " 'storm': 1,\n",
       " 'break': 1,\n",
       " 'music,': 1,\n",
       " 'Stop': 3,\n",
       " 'pyre': 1,\n",
       " 'Mother,': 1,\n",
       " 'if': 1,\n",
       " 'Got': 7,\n",
       " 'Start': 2,\n",
       " 'tiny': 7,\n",
       " 'heart': 3,\n",
       " 'leaders': 1,\n",
       " \"ignitin'\": 3,\n",
       " 'whisper': 1,\n",
       " 'way': 8,\n",
       " 'can': 4,\n",
       " 'funeral': 1,\n",
       " 'wind': 2,\n",
       " 'use': 2,\n",
       " 'spark': 3,\n",
       " 'hold': 1,\n",
       " 'so': 6,\n",
       " 'breaks': 1,\n",
       " 'what': 1,\n",
       " \"We'll\": 1,\n",
       " 'strike': 3,\n",
       " 'go': 1,\n",
       " 'earth': 1,\n",
       " 'feeling,': 1,\n",
       " 'their': 1,\n",
       " 'igniting': 1,\n",
       " 'butterflies': 1,\n",
       " 'quakes': 1,\n",
       " 'choir': 1,\n",
       " 'ground': 1,\n",
       " 'speakers': 1,\n",
       " \"you're\": 1,\n",
       " 'start': 1,\n",
       " 'shakes': 1,\n",
       " 'drifting': 1,\n",
       " 'being': 3,\n",
       " \"don't\": 5,\n",
       " 'liars': 1,\n",
       " 'hurricanes': 1,\n",
       " 'Turn': 9,\n",
       " 'day': 1,\n",
       " 'wave': 8,\n",
       " 'try': 1,\n",
       " 'fuses': 1,\n",
       " 'Crush': 8,\n",
       " 'lose': 1,\n",
       " 'under': 1,\n",
       " 'God': 1,\n",
       " 'hear': 1,\n",
       " 'fire': 1,\n",
       " 'me': 1,\n",
       " 'Of': 4,\n",
       " \"There's\": 2,\n",
       " 'You': 3,\n",
       " 'other': 1,\n",
       " 'into': 1,\n",
       " 'preaching': 1,\n",
       " 'Step': 1,\n",
       " 'moving': 1,\n",
       " 'goddamn': 3,\n",
       " 'thunder': 1}"
      ]
     },
     "execution_count": 24,
     "metadata": {},
     "output_type": "execute_result"
    }
   ],
   "source": [
    "wordCount "
   ]
  },
  {
   "cell_type": "code",
   "execution_count": 26,
   "id": "44e6fd05",
   "metadata": {},
   "outputs": [],
   "source": [
    "import matplotlib.pyplot as plt\n",
    "from wordcloud import WordCloud\n",
    "import matplotlib.pyplot as plt\n",
    "import numpy as np\n",
    "from PIL import Image"
   ]
  },
  {
   "cell_type": "code",
   "execution_count": 27,
   "id": "c0ec7603",
   "metadata": {},
   "outputs": [
    {
     "name": "stdout",
     "output_type": "stream",
     "text": [
      "C:\\Users\\User\n"
     ]
    }
   ],
   "source": [
    "from pathlib import Path\n",
    "print(Path.home())"
   ]
  },
  {
   "cell_type": "code",
   "execution_count": 38,
   "id": "0bc1a0f8",
   "metadata": {},
   "outputs": [
    {
     "data": {
      "image/png": "[encoded data removed]",
      "text/plain": [
       "<Figure size 576x1080 with 1 Axes>"
      ]
     },
     "metadata": {
      "needs_background": "light"
     },
     "output_type": "display_data"
    }
   ],
   "source": [
    "img_path = 'c:/Users/User/P1/Apple.png'\n",
    "mask_a = np.array(Image.open(img_path))\n",
    "wordcloud = WordCloud(colormap = 'Reds',\n",
    "                      background_color = 'black',\n",
    "                      mask = mask_a)\n",
    "wc = wordcloud.generate_from_frequencies(wordCount)\n",
    "plt.figure(figsize=(8, 15))                                  \n",
    "plt.imshow(wc)\n",
    "plt.imshow(wc, interpolation = 'bilinear')\n",
    "plt.show()"
   ]
  },
  {
   "cell_type": "code",
   "execution_count": null,
   "id": "907bbf8e",
   "metadata": {},
   "outputs": [],
   "source": []
  }
 ],
 "metadata": {
  "colab": {
   "collapsed_sections": [],
   "name": "14과 [실습] 파일 다루기.ipynb",
   "provenance": []
  },
  "kernelspec": {
   "display_name": "Python 3",
   "language": "python",
   "name": "python3"
  },
  "language_info": {
   "codemirror_mode": {
    "name": "ipython",
    "version": 3
   },
   "file_extension": ".py",
   "mimetype": "text/x-python",
   "name": "python",
   "nbconvert_exporter": "python",
   "pygments_lexer": "ipython3",
   "version": "3.8.8"
  }
 },
 "nbformat": 4,
 "nbformat_minor": 5
}
